{
 "cells": [
  {
   "cell_type": "code",
   "metadata": {
    "cell_id": "03e30efd-2539-44b4-bf7d-a72aca56f8ef",
    "deepnote_to_be_reexecuted": false,
    "source_hash": "48f8a8b5",
    "execution_start": 1647950455402,
    "execution_millis": 1790,
    "deepnote_cell_type": "code",
    "deepnote_cell_height": 117
   },
   "source": "import numpy as np\nimport matplotlib.pyplot as plt\n%run plot.py",
   "execution_count": null,
   "outputs": []
  },
  {
   "cell_type": "markdown",
   "source": "### Function for the random step\n$DX$ is the standard deviation, $bias$ is the constant average of the step",
   "metadata": {
    "cell_id": "00001-093a5ea4-8250-4fba-bc84-8c22fd7d68a5",
    "deepnote_cell_type": "markdown",
    "deepnote_cell_height": 100.390625
   }
  },
  {
   "cell_type": "code",
   "metadata": {
    "cell_id": "00002-5b99e8e4-abb3-42da-885d-f206d50f756b",
    "deepnote_to_be_reexecuted": false,
    "source_hash": "c1070eab",
    "execution_start": 1647950457192,
    "execution_millis": 10462,
    "deepnote_cell_type": "code",
    "deepnote_cell_height": 437.875
   },
   "source": "# random seed for reproducibility\nnp.random.seed(12345)\n\n# function for the random step, using lambda construction\n# int() for cleaner look and for mimicing a detector with finite resolution\njump = lambda drift, stdev: int(np.random.normal(drift,stdev))\n\nfor i in range(10):\n    print(jump(5,50))",
   "execution_count": null,
   "outputs": [
    {
     "name": "stdout",
     "text": "-5\n28\n-20\n-22\n103\n74\n9\n19\n43\n67\n",
     "output_type": "stream"
    }
   ]
  },
  {
   "cell_type": "markdown",
   "source": "### Function for the added pattern\nto add to part of a time series, over $z$ bins, with amplitude $a$",
   "metadata": {
    "cell_id": "00003-434dd76c-394d-46e6-81e5-bbd9ce29d11e",
    "deepnote_cell_type": "markdown",
    "deepnote_cell_height": 100.390625
   }
  },
  {
   "cell_type": "code",
   "metadata": {
    "cell_id": "00004-64776a44-6690-45b4-b9ae-f2e889a5f265",
    "deepnote_to_be_reexecuted": false,
    "source_hash": "7e112eef",
    "execution_start": 1647950457202,
    "execution_millis": 18958,
    "deepnote_cell_type": "code",
    "deepnote_cell_height": 99
   },
   "source": "def pattern(i,z,a):\n    return int(a*np.sin((np.pi*i)/z))",
   "execution_count": null,
   "outputs": []
  },
  {
   "cell_type": "code",
   "metadata": {
    "cell_id": "00005-055ff5ab-acde-48ea-801f-4a9de21079f8",
    "deepnote_to_be_reexecuted": false,
    "source_hash": "d6e1037",
    "execution_start": 1647950457210,
    "execution_millis": 4771,
    "deepnote_cell_type": "code",
    "deepnote_cell_height": 1133.5625,
    "deepnote_output_heights": [
     null,
     280
    ]
   },
   "source": "# random seed for reproducibility\nnp.random.seed(12345)\n\n# pattern parameters: Z=nr of steps, A=amplitude\nZ=12\nA=500\n\n# number of data samples\nN=10000\n# size of each sample of the timeseries\nL=60\n# step parameters: introduce small positive bias \nDX = 50\nbias = 5\n\ny = [0] * N\nx = [[0] * L for i in range(N)]\nfor i in range(N):\n    if i>0:\n        x[i][0] = x[i-1][-1] + jump(bias,DX)\n    \n    for j in range(1,L):\n        x[i][j] = x[i][j-1] + jump(bias,DX)\n        \n    y[i] = i%3 \n    ##y[i] = random.randint(0,2)\n    if y[i]>0:\n        j0 = np.random.randint(0,L-1-Z)\n        ###print(i,j0,j1)\n        sign = 3-2*y[i]\n        for j in range(Z):\n            x[i][j0+j] += sign*pattern(j,Z,A)\n            \nfor i in range(min(3,N)):\n    print(x[i],y[i])\n    \n\nShow_data(x,L,\"original data\")",
   "execution_count": null,
   "outputs": [
    {
     "name": "stdout",
     "text": "[0, -5, 23, 3, -19, 84, 158, 167, 186, 229, 296, 351, 292, 310, 326, 398, 447, 352, 339, 427, 411, 390, 418, 585, 539, 516, 527, 547, 578, 583, 655, 625, 589, 476, 388, 350, 383, 325, 335, 287, 308, 196, 192, 120, 77, 17, 36, 59, 27, 48, 120, 128, 145, 149, 204, 275, 235, 163, 169, 211] 0\n[183, 231, 235, 242, 280, 327, 285, 288, 307, 400, 449, 468, 575, 634, 655, 661, 561, 431, 270, 110, 126, 133, 81, 126, 152, 207, 303, 259, 306, 305, 355, 369, 482, 482, 587, 593, 637, 647, 615, 649, 661, 588, 565, 568, 527, 508, 511, 570, 624, 600, 684, 663, 690, 741, 668, 622, 607, 623, 619, 657] 1\n[580, 623, 678, 663, 597, 579, 558, 521, 610, 643, 496, 417, 360, 369, 247, 190, 258, 256, 359, 489, 648, 783, 751, 706, 825, 746, 794, 774, 749, 796, 798, 793, 831, 835, 777, 810, 841, 801, 790, 777, 894, 865, 828, 836, 837, 826, 839, 855, 854, 851, 785, 799, 883, 811, 830, 807, 807, 804, 789, 732] 2\n",
     "output_type": "stream"
    },
    {
     "data": {
      "text/plain": "<Figure size 432x288 with 1 Axes>",
      "image/png": "[encoded data removed]"
     },
     "metadata": {
      "needs_background": "light",
      "image/png": {
       "width": 375,
       "height": 278
      }
     },
     "output_type": "display_data"
    }
   ]
  },
  {
   "cell_type": "markdown",
   "source": "### Save data on file",
   "metadata": {
    "cell_id": "00006-4b92938d-aeb7-44fd-b7f2-7cf847efa08a",
    "deepnote_cell_type": "markdown",
    "deepnote_cell_height": 62
   }
  },
  {
   "cell_type": "code",
   "metadata": {
    "cell_id": "00007-c8534615-e779-43c4-8f1f-9c2e114d757a",
    "deepnote_to_be_reexecuted": false,
    "source_hash": "ad77ae48",
    "execution_start": 1647950461984,
    "execution_millis": 1350,
    "deepnote_cell_type": "code",
    "deepnote_cell_height": 276.375
   },
   "source": "# command in linux\n!mkdir DATA\nstr0 = f'ts_L{L}_Z{Z}_A{A}_DX{DX}_bias{bias}_N{N}.dat'\nprint(str0)\n\nfname='DATA/x_'+str0\nnp.savetxt(fname,x,fmt=\"%d\")\nfname='DATA/y_'+str0\nnp.savetxt(fname,y,fmt=\"%d\")",
   "execution_count": null,
   "outputs": [
    {
     "name": "stdout",
     "text": "mkdir: cannot create directory ‘DATA’: File exists\nts_L60_Z12_A500_DX50_bias5_N10000.dat\n",
     "output_type": "stream"
    }
   ]
  },
  {
   "cell_type": "code",
   "metadata": {
    "cell_id": "00008-1a43f1f4-9a9d-40fe-b1ad-824badcd6237",
    "deepnote_to_be_reexecuted": false,
    "source_hash": "b623e53d",
    "execution_start": 1647950463102,
    "execution_millis": 5,
    "deepnote_cell_type": "code",
    "deepnote_cell_height": 81
   },
   "source": "",
   "execution_count": null,
   "outputs": []
  },
  {
   "cell_type": "code",
   "metadata": {
    "cell_id": "00009-fad0b3ed-ad9c-41ac-8805-293fe4af85d8",
    "deepnote_to_be_reexecuted": false,
    "source_hash": "b623e53d",
    "execution_start": 1647950463108,
    "execution_millis": 2,
    "deepnote_cell_type": "code",
    "deepnote_cell_height": 81
   },
   "source": "",
   "execution_count": null,
   "outputs": []
  },
  {
   "cell_type": "markdown",
   "source": "<a style='text-decoration:none;line-height:16px;display:flex;color:#5B5B62;padding:10px;justify-content:end;' href='https://deepnote.com?utm_source=created-in-deepnote-cell&projectId=1cb9264e-65a5-431d-a980-16667908489e' target=\"_blank\">\n<img alt='Created in deepnote.com' style='display:inline;max-height:16px;margin:0px;margin-right:7.5px;' src='data:image/svg+xml;base64,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' > </img>\nCreated in <span style='font-weight:600;margin-left:4px;'>Deepnote</span></a>",
   "metadata": {
    "tags": [],
    "created_in_deepnote_cell": true,
    "deepnote_cell_type": "markdown"
   }
  }
 ],
 "nbformat": 4,
 "nbformat_minor": 4,
 "metadata": {
  "kernelspec": {
   "display_name": "Python 3 (ipykernel)",
   "language": "python",
   "name": "python3"
  },
  "language_info": {
   "codemirror_mode": {
    "name": "ipython",
    "version": 3
   },
   "file_extension": ".py",
   "mimetype": "text/x-python",
   "name": "python",
   "nbconvert_exporter": "python",
   "pygments_lexer": "ipython3",
   "version": "3.10.2"
  },
  "deepnote_notebook_id": "c36b0d0f-283f-48c0-879c-8f0489ba8a29",
  "deepnote": {},
  "deepnote_execution_queue": []
 }
}