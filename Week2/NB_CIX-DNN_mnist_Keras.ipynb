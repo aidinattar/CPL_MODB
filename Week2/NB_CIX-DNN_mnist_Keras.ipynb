{
 "cells": [
  {
   "cell_type": "markdown",
   "source": "# Notebook 11: Introduction to Deep Neural Networks with Keras",
   "metadata": {
    "cell_id": "bfe77156-5a76-4cf2-a94a-6ebdbf07bd89",
    "deepnote_cell_type": "markdown",
    "deepnote_cell_height": 134
   }
  },
  {
   "cell_type": "markdown",
   "source": "## Learning Goals\nThe goal of this notebook is to introduce deep neural networks (DNNs) using the high-level Keras package. The reader will become familiar with how to choose an architecture, cost function, and optimizer in Keras. We will also learn how to train neural networks.\n\n\n# MNIST with Keras\n\nWe will once again work with the MNIST dataset of hand written digits introduced in *Notebook 7: Logistic Regression (MNIST)*. The goal is to find a statistical model which recognizes and distinguishes between the ten handwritten digits (0-9).\n\nThe MNIST dataset comprises $70000$ handwritten digits, each of which comes in a square image, divided into a $28\\times 28$ pixel grid. Every pixel can take on $256$ nuances of the gray color, interpolating between white and black, and hence each data point assumes any value in the set $\\{0,1,\\dots,255\\}$. Since there are $10$ categories in the problem, corresponding to the ten digits, this problem represents a generic classification task. \n\nIn this Notebook, we show how to use the Keras python package to tackle the MNIST problem with the help of deep neural networks.\n\nThe following code is a slight modification of a Keras tutorial, see [https://github.com/fchollet/keras/blob/master/examples/mnist_cnn.py](https://github.com/fchollet/keras/blob/master/examples/mnist_cnn.py). We invite the reader to read Sec. IX of the review to acquire a broad understanding of what the separate parts of the code do.",
   "metadata": {
    "cell_id": "00001-d19787c8-b0a4-42ac-968e-a93a07a8a494",
    "deepnote_cell_type": "markdown",
    "deepnote_cell_height": 568.328125
   }
  },
  {
   "cell_type": "code",
   "metadata": {
    "cell_id": "00002-20accc32-6edd-4b0e-ba5a-4be71f01839e",
    "deepnote_cell_type": "code",
    "deepnote_cell_height": 264
   },
   "source": "from __future__ import print_function\nimport keras,sklearn\n# suppress tensorflow compilation warnings\nimport os\nos.environ['KMP_DUPLICATE_LIB_OK']='True'\nimport tensorflow as tf\nos.environ['TF_CPP_MIN_LOG_LEVEL'] = '2'\nimport numpy as np\nseed=0\n#np.random.seed(seed) # fix random seed\ntf.random.set_seed(seed)\nimport matplotlib.pyplot as plt",
   "outputs": [],
   "execution_count": null
  },
  {
   "cell_type": "markdown",
   "source": "## Structure of the Procedure\n\nConstructing a Deep Neural Network to solve ML problems is a multiple-stage process. Quite generally, one can identify the key steps as follows:\n\n* ***step 1:*** Load and process the data\n* ***step 2:*** Define the model and its architecture\n* ***step 3:*** Choose the optimizer and the cost function\n* ***step 4:*** Train the model \n* ***step 5:*** Evaluate the model performance on the *unseen* test data\n* ***step 6:*** Modify the hyperparameters to optimize performance for the specific data set\n\nWe would like to emphasize that, while it is always possible to view steps 1-5 as independent of the particular task we are trying to solve, it is only when they are put together in ***step 6*** that the real gain of using Deep Learning is revealed, compared to less sophisticated methods such as the regression models or bagging, described in Secs. VII and VIII of the review. With this remark in mind, we shall focus predominantly on steps 1-5 below. We show how one can use grid search methods to find optimal hyperparameters in ***step 6***.",
   "metadata": {
    "cell_id": "00003-436c8543-a620-4f6d-90bb-7586017ea241",
    "deepnote_cell_type": "markdown",
    "deepnote_cell_height": 442.53125
   }
  },
  {
   "cell_type": "markdown",
   "source": "### Step 1: Load and Process the Data\n\nKeras can conveniently download the MNIST data from the web. All we need to do is import the `mnist` module and use the `load_data()` class, and it will create the training and test data sets or us.\n\nThe MNIST set has pre-defined test and training sets, in order to facilitate the comparison of the performance of different models on the data.\n\nOnce we have loaded the data, we need to format it in the correct shape. This differs from one package to the other and, as we see in the case of Keras, it can even be different depending on the backend used.\n\nWhile choosing the correct `datatype` can help improve the computational speed, we emphasize the rescaling step, which is necessary to avoid large variations in the minimal and maximal possible values of each feature. In other words, we want to make sure a feature is not being over-represented just because it is \"large\".\n\nLast, we cast the label vectors $y$ to binary class matrices (a.k.a. one-hot format), as explained in Sec. VII on SoftMax regression.",
   "metadata": {
    "cell_id": "00004-fd7c158f-dda3-4c7a-bf32-cd7d3ea4bac8",
    "deepnote_cell_type": "markdown",
    "deepnote_cell_height": 447.53125
   }
  },
  {
   "cell_type": "code",
   "metadata": {
    "cell_id": "00005-1f94a05b-840a-496b-b5be-5786b37d8407",
    "deepnote_cell_type": "code",
    "deepnote_cell_height": 987,
    "deepnote_output_heights": [
     null,
     260
    ]
   },
   "source": "from keras.datasets import mnist\n\n# input image dimensions\nnum_classes = 10 # 10 digits\n\nimg_rows, img_cols = 28, 28 # number of pixels \n\n# the data, shuffled and split between train and test sets\n(X_train, Y_train), (X_test, Y_test) = mnist.load_data()\n\n# reshape data, depending on Keras backend\nX_train = X_train.reshape(X_train.shape[0], img_rows*img_cols)\nX_test = X_test.reshape(X_test.shape[0], img_rows*img_cols)\n    \n# cast floats to single precesion\nX_train = X_train.astype('float32')\nX_test = X_test.astype('float32')\n\n# rescale data in interval [0,1]\nX_train /= 255\nX_test /= 255\n\n# look at an example of data point\nprint('an example of a data point with label', Y_train[20])\nplt.matshow(X_train[20,:].reshape(28,28),cmap='binary')\nplt.show()\n\n# convert class vectors to binary class matrices\nY_train = keras.utils.np_utils.to_categorical(Y_train, num_classes)\nY_test = keras.utils.np_utils.to_categorical(Y_test, num_classes)\n\nprint('X_train shape:', X_train.shape)\nprint('Y_train shape:', Y_train.shape)\nprint()\nprint(X_train.shape[0], 'train samples')\nprint(X_test.shape[0], 'test samples')",
   "outputs": [
    {
     "name": "stdout",
     "output_type": "stream",
     "text": "an example of a data point with label 4\n"
    },
    {
     "data": {
      "image/png": "[encoded data removed]",
      "text/plain": "<Figure size 288x288 with 1 Axes>"
     },
     "metadata": {
      "needs_background": "light",
      "image/png": {
       "width": 257,
       "height": 258
      }
     },
     "output_type": "display_data"
    },
    {
     "name": "stdout",
     "output_type": "stream",
     "text": "X_train shape: (60000, 784)\nY_train shape: (60000, 10)\n\n60000 train samples\n10000 test samples\n"
    }
   ],
   "execution_count": null
  },
  {
   "cell_type": "markdown",
   "source": "### Step 2: Define the Neural Net and its Architecture\n\nWe can now move on to construct our deep neural net. We shall use Keras's `Sequential()` class to instantiate a model, and will add different deep layers one by one.\n\nAt this stage, we refrain from using convolutional layers. This is done further below.\n\nLet us create an instance of Keras' `Sequential()` class, called `model`. As the name suggests, this class allows us to build DNNs layer by layer. We use the `add()` method to attach layers to our model. For the purposes of our introductory example, it suffices to focus on `Dense` layers for simplicity. Every `Dense()` layer accepts as its first required argument an integer which specifies the number of neurons. The type of activation function for the layer is defined using the `activation` optional argument, the input of which is the name of the activation function in `string` format. Examples include `relu`, `tanh`, `elu`, `sigmoid`, `softmax`. \n\nIn order for our DNN to work properly, we have to make sure that the numbers of input and output neurons for each layer match. Therefore, we specify the shape of the input in the first layer of the model explicitly using the optional argument `input_shape=(N_features,)`. The sequential construction of the model then allows Keras to infer the correct input/output dimensions of all hidden layers automatically. Hence, we only need to specify the size of the softmax output layer to match the number of categories.",
   "metadata": {
    "cell_id": "00006-c770cda0-eefb-4af1-a65f-6c9841c77e0d",
    "deepnote_cell_type": "markdown",
    "deepnote_cell_height": 478.3125
   }
  },
  {
   "cell_type": "code",
   "metadata": {
    "cell_id": "00007-5cab5f8c-0e9b-4a39-a1bc-53f0fea950a0",
    "deepnote_cell_type": "code",
    "deepnote_cell_height": 408
   },
   "source": "from keras.models import Sequential\nfrom keras.layers import Dense, Dropout, Flatten\nfrom keras.layers import Conv2D, MaxPooling2D\n\n\ndef create_DNN():\n    # instantiate model\n    model = Sequential()\n    # add a dense all-to-all relu layer\n    model.add(Dense(400,input_shape=(img_rows*img_cols,), activation='relu'))\n    # add a dense all-to-all relu layer\n    model.add(Dense(100, activation='relu'))\n    # apply dropout with rate 0.5\n    model.add(Dropout(0.5))\n    # soft-max layer\n    model.add(Dense(num_classes, activation='softmax'))\n    \n    return model\n\nprint('Model architecture created successfully!')",
   "outputs": [
    {
     "name": "stdout",
     "output_type": "stream",
     "text": "Model architecture created successfully!\n"
    }
   ],
   "execution_count": null
  },
  {
   "cell_type": "markdown",
   "source": "### Step 3: Choose the Optimizer and the Cost Function\n\nNext, we choose the loss function according to which to train the DNN. For classification problems, this is the cross entropy, and since the output data was cast in categorical form, we choose the `categorical_crossentropy` defined in Keras' `losses` module. Depending on the problem of interest one can pick any other suitable loss function. To optimize the weights of the net, we choose SGD. This algorithm is already available to use under Keras' `optimizers` module, but we could use `Adam()` or any other built-in one as well. The parameters for the optimizer, such as `lr` (learning rate) or `momentum` are passed using the corresponding optional arguments of the `SGD()` function. All available arguments can be found in Keras' online documentation at [https://keras.io/](https://keras.io/). While the loss function and the optimizer are essential for the training procedure, to test the performance of the model one may want to look at a particular `metric` of performance. For instance, in categorical tasks one typically looks at their `accuracy`, which is defined as the percentage of correctly classified data points. To complete the definition of our model, we use the `compile()` method, with optional arguments for the `optimizer`, `loss`, and the validation `metric` as follows:",
   "metadata": {
    "cell_id": "00008-a23a6a6a-364f-4a47-ab7f-2e25f92aeb9a",
    "deepnote_cell_type": "markdown",
    "deepnote_cell_height": 369.125
   }
  },
  {
   "cell_type": "code",
   "metadata": {
    "cell_id": "00009-06fcb3f6-558c-43f2-b03c-eb93a48a8b95",
    "deepnote_cell_type": "code",
    "deepnote_cell_height": 228
   },
   "source": "def compile_model(optimizer=tf.optimizers.Adam()):\n    # create the mode\n    model=create_DNN()\n    # compile the model\n    model.compile(loss=keras.losses.categorical_crossentropy,\n                  optimizer=optimizer,\n                  metrics=['accuracy'])\n    return model\n\nprint('Model compiled successfully and ready to be trained.')",
   "outputs": [
    {
     "name": "stdout",
     "output_type": "stream",
     "text": "Model compiled successfully and ready to be trained.\n"
    }
   ],
   "execution_count": null
  },
  {
   "cell_type": "markdown",
   "source": "### Step 4: Train the model\n\nWe train our DNN in minibatches, the advantages of which were explained in Sec. IV. \n\nShuffling the training data during training improves stability of the model. Thus, we train over a number of training epochs. \n\nTraining the DNN is a one-liner using the `fit()` method of the `Sequential` class. The first two required arguments are the training input and output data. As optional arguments, we specify the mini-`batch_size`, the number of training `epochs`, and the test or `validation_data`. To monitor the training procedure for every epoch, we set `verbose=True`. ",
   "metadata": {
    "cell_id": "00010-52e9a27e-eff1-44eb-bcb2-021d20a17845",
    "deepnote_cell_type": "markdown",
    "deepnote_cell_height": 262.75
   }
  },
  {
   "cell_type": "code",
   "metadata": {
    "cell_id": "00011-ef7288e9-c181-4bff-9ef4-c89da31c6e0b",
    "deepnote_cell_type": "code",
    "deepnote_cell_height": 282
   },
   "source": "# training parameters\nbatch_size = 64\nepochs = 10\n\n# create the deep neural net\nmodel_DNN=compile_model()\n\n# train DNN and store training info in history\nhistory=model_DNN.fit(X_train, Y_train,\n          batch_size=batch_size,\n          epochs=epochs,\n          verbose=1,\n          validation_data=(X_test, Y_test))",
   "outputs": [
    {
     "name": "stderr",
     "output_type": "stream",
     "text": "2022-03-07 22:41:08.115810: W tensorflow/stream_executor/platform/default/dso_loader.cc:64] Could not load dynamic library 'libcuda.so.1'; dlerror: libcuda.so.1: cannot open shared object file: No such file or directory\n2022-03-07 22:41:08.115843: W tensorflow/stream_executor/cuda/cuda_driver.cc:269] failed call to cuInit: UNKNOWN ERROR (303)\n2022-03-07 22:41:08.115863: I tensorflow/stream_executor/cuda/cuda_diagnostics.cc:156] kernel driver does not appear to be running on this host (aidin-HP-Laptop-15-bs1xx): /proc/driver/nvidia/version does not exist\n2022-03-07 22:41:08.118274: I tensorflow/core/platform/cpu_feature_guard.cc:151] This TensorFlow binary is optimized with oneAPI Deep Neural Network Library (oneDNN) to use the following CPU instructions in performance-critical operations:  AVX2 FMA\nTo enable them in other operations, rebuild TensorFlow with the appropriate compiler flags.\n"
    },
    {
     "name": "stdout",
     "output_type": "stream",
     "text": "Epoch 1/10\n"
    },
    {
     "name": "stderr",
     "output_type": "stream",
     "text": "2022-03-07 22:41:08.296140: W tensorflow/core/framework/cpu_allocator_impl.cc:82] Allocation of 188160000 exceeds 10% of free system memory.\n"
    },
    {
     "name": "stdout",
     "output_type": "stream",
     "text": "938/938 [==============================] - 3s 3ms/step - loss: 0.3075 - accuracy: 0.9092 - val_loss: 0.1174 - val_accuracy: 0.9649\nEpoch 2/10\n938/938 [==============================] - 3s 3ms/step - loss: 0.1287 - accuracy: 0.9631 - val_loss: 0.0923 - val_accuracy: 0.9726\nEpoch 3/10\n938/938 [==============================] - 3s 3ms/step - loss: 0.0912 - accuracy: 0.9730 - val_loss: 0.0836 - val_accuracy: 0.9743\nEpoch 4/10\n938/938 [==============================] - 3s 3ms/step - loss: 0.0704 - accuracy: 0.9793 - val_loss: 0.0722 - val_accuracy: 0.9787\nEpoch 5/10\n938/938 [==============================] - 3s 3ms/step - loss: 0.0550 - accuracy: 0.9833 - val_loss: 0.0679 - val_accuracy: 0.9811\nEpoch 6/10\n938/938 [==============================] - 3s 3ms/step - loss: 0.0461 - accuracy: 0.9859 - val_loss: 0.0748 - val_accuracy: 0.9787\nEpoch 7/10\n938/938 [==============================] - 3s 3ms/step - loss: 0.0382 - accuracy: 0.9878 - val_loss: 0.0788 - val_accuracy: 0.9795\nEpoch 8/10\n938/938 [==============================] - 3s 3ms/step - loss: 0.0347 - accuracy: 0.9888 - val_loss: 0.0715 - val_accuracy: 0.9806\nEpoch 9/10\n938/938 [==============================] - 3s 3ms/step - loss: 0.0293 - accuracy: 0.9909 - val_loss: 0.0766 - val_accuracy: 0.9802\nEpoch 10/10\n938/938 [==============================] - 3s 3ms/step - loss: 0.0266 - accuracy: 0.9917 - val_loss: 0.0855 - val_accuracy: 0.9804\n"
    }
   ],
   "execution_count": null
  },
  {
   "cell_type": "markdown",
   "source": "### Step 5: Evaluate the Model Performance on the *Unseen* Test Data\n\nNext, we evaluate the model and read of the loss on the test data, and its accuracy using the `evaluate()` method.",
   "metadata": {
    "cell_id": "00012-f480577e-c627-417a-b5fc-49232178ede9",
    "deepnote_cell_type": "markdown",
    "deepnote_cell_height": 154.78125
   }
  },
  {
   "cell_type": "code",
   "metadata": {
    "cell_id": "00013-9984f78f-d892-4b81-b685-affdab866d05",
    "deepnote_cell_type": "code",
    "deepnote_cell_height": 1096,
    "deepnote_output_heights": [
     null,
     268,
     268
    ]
   },
   "source": "# evaluate model\nscore = model_DNN.evaluate(X_test, Y_test, verbose=1)\n\n# print performance\nprint()\nprint('Test loss:', score[0])\nprint('Test accuracy:', score[1])\n\n# look into training history\n\n# summarize history for accuracy\nplt.plot(history.history['acc'])\nplt.plot(history.history['val_acc'])\nplt.ylabel('model accuracy')\nplt.xlabel('epoch')\nplt.legend(['train', 'test'], loc='best')\nplt.show()\n\n# summarize history for loss\nplt.plot(history.history['loss'])\nplt.plot(history.history['val_loss'])\nplt.ylabel('model loss')\nplt.xlabel('epoch')\nplt.legend(['train', 'test'], loc='best')\nplt.show()",
   "outputs": [
    {
     "name": "stdout",
     "output_type": "stream",
     "text": "10000/10000 [==============================] - 0s 36us/step\n\nTest loss: 0.07659573335081113\nTest accuracy: 0.9816\n"
    },
    {
     "data": {
      "image/png": "[encoded data removed]",
      "text/plain": "<Figure size 432x288 with 1 Axes>"
     },
     "metadata": {
      "needs_background": "light",
      "image/png": {
       "width": 395,
       "height": 266
      }
     },
     "output_type": "display_data"
    },
    {
     "data": {
      "image/png": "[encoded data removed]",
      "text/plain": "<Figure size 432x288 with 1 Axes>"
     },
     "metadata": {
      "needs_background": "light",
      "image/png": {
       "width": 395,
       "height": 266
      }
     },
     "output_type": "display_data"
    }
   ],
   "execution_count": null
  },
  {
   "cell_type": "markdown",
   "source": "### Step 6: Modify the Hyperparameters to Optimize Performance of the Model\n\nLast, we show how to use the grid search option of scikit-learn to optimize the \nhyperparameters of our model. An excellent blog on this by Jason Brownlee can be found on [https://machinelearningmastery.com/grid-search-hyperparameters-deep-learning-models-python-keras/](https://machinelearningmastery.com/grid-search-hyperparameters-deep-learning-models-python-keras/).",
   "metadata": {
    "collapsed": true,
    "cell_id": "00014-979e07c2-c227-4095-8260-1a750a4b3aff",
    "deepnote_cell_type": "markdown",
    "deepnote_cell_height": 199.5625
   }
  },
  {
   "cell_type": "code",
   "metadata": {
    "cell_id": "00015-dfdccc35-4321-45e2-8d9d-4d5b55ba719f",
    "deepnote_cell_type": "code",
    "deepnote_cell_height": 498
   },
   "source": "from sklearn.model_selection import GridSearchCV\nfrom keras.wrappers.scikit_learn import KerasClassifier\n\n# call Keras scikit wrapper\nmodel_gridsearch = KerasClassifier(build_fn=compile_model, \n                        epochs=1, \n                        batch_size=batch_size, \n                        verbose=1)\n\n# list of allowed optional arguments for the optimizer, see `compile_model()`\noptimizer = ['SGD', 'RMSprop', 'Adagrad', 'Adadelta', 'Adam', 'Adamax', 'Nadam']\n# define parameter dictionary\nparam_grid = dict(optimizer=optimizer)\n# call scikit grid search module\ngrid = GridSearchCV(estimator=model_gridsearch, param_grid=param_grid, n_jobs=1, cv=4)\ngrid_result = grid.fit(X_train,Y_train)\n\n# summarize results\nprint(\"Best: %f using %s\" % (grid_result.best_score_, grid_result.best_params_))\nmeans = grid_result.cv_results_['mean_test_score']\nstds = grid_result.cv_results_['std_test_score']\nparams = grid_result.cv_results_['params']\nfor mean, stdev, param in zip(means, stds, params):\n    print(\"%f (%f) with: %r\" % (mean, stdev, param))\n",
   "outputs": [
    {
     "name": "stdout",
     "output_type": "stream",
     "text": "Epoch 1/1\n45000/45000 [==============================] - 5s 118us/step - loss: 1.1397 - acc: 0.6571\n15000/15000 [==============================] - 1s 38us/step\n45000/45000 [==============================] - 1s 23us/step\nEpoch 1/1\n45000/45000 [==============================] - 5s 117us/step - loss: 1.1162 - acc: 0.6668\n15000/15000 [==============================] - 1s 39us/step\n45000/45000 [==============================] - 1s 26us/step\nEpoch 1/1\n45000/45000 [==============================] - 5s 117us/step - loss: 1.1128 - acc: 0.6707\n15000/15000 [==============================] - 1s 38us/step\n45000/45000 [==============================] - 1s 26us/step\nEpoch 1/1\n45000/45000 [==============================] - 5s 120us/step - loss: 1.1454 - acc: 0.6564\n15000/15000 [==============================] - 1s 42us/step\n45000/45000 [==============================] - 1s 24us/step\nEpoch 1/1\n45000/45000 [==============================] - 8s 177us/step - loss: 0.3399 - acc: 0.8988\n15000/15000 [==============================] - 1s 42us/step\n45000/45000 [==============================] - 1s 25us/step\nEpoch 1/1\n45000/45000 [==============================] - 8s 177us/step - loss: 0.3430 - acc: 0.8996\n15000/15000 [==============================] - 1s 44us/step\n45000/45000 [==============================] - 1s 26us/step\nEpoch 1/1\n45000/45000 [==============================] - 8s 183us/step - loss: 0.3414 - acc: 0.8996\n15000/15000 [==============================] - 1s 45us/step\n45000/45000 [==============================] - 1s 26us/step \nEpoch 1/1\n45000/45000 [==============================] - 8s 180us/step - loss: 0.3402 - acc: 0.8990\n15000/15000 [==============================] - 1s 45us/step\n45000/45000 [==============================] - 1s 28us/step\nEpoch 1/1\n45000/45000 [==============================] - 8s 169us/step - loss: 0.3175 - acc: 0.9076\n15000/15000 [==============================] - 1s 47us/step\n45000/45000 [==============================] - 1s 26us/step\nEpoch 1/1\n45000/45000 [==============================] - 8s 169us/step - loss: 0.3346 - acc: 0.9031\n15000/15000 [==============================] - 1s 51us/step\n45000/45000 [==============================] - 1s 27us/step\nEpoch 1/1\n45000/45000 [==============================] - 8s 170us/step - loss: 0.3227 - acc: 0.9070\n15000/15000 [==============================] - 1s 47us/step\n45000/45000 [==============================] - 1s 27us/step\nEpoch 1/1\n45000/45000 [==============================] - 8s 171us/step - loss: 0.3497 - acc: 0.8977\n15000/15000 [==============================] - 1s 52us/step\n45000/45000 [==============================] - 1s 26us/step\nEpoch 1/1\n45000/45000 [==============================] - 10s 231us/step - loss: 0.3711 - acc: 0.8901\n15000/15000 [==============================] - 1s 52us/step\n45000/45000 [==============================] - 1s 26us/step\nEpoch 1/1\n45000/45000 [==============================] - 10s 225us/step - loss: 0.3731 - acc: 0.8888\n15000/15000 [==============================] - 1s 45us/step\n45000/45000 [==============================] - 1s 22us/step\nEpoch 1/1\n45000/45000 [==============================] - 10s 223us/step - loss: 0.3653 - acc: 0.8930\n15000/15000 [==============================] - 1s 48us/step\n45000/45000 [==============================] - 1s 23us/step\nEpoch 1/1\n45000/45000 [==============================] - 9s 203us/step - loss: 0.3721 - acc: 0.8891\n15000/15000 [==============================] - 1s 44us/step\n45000/45000 [==============================] - 1s 20us/step\nEpoch 1/1\n45000/45000 [==============================] - 8s 167us/step - loss: 0.3551 - acc: 0.8951\n15000/15000 [==============================] - 1s 48us/step\n45000/45000 [==============================] - 1s 20us/step\nEpoch 1/1\n45000/45000 [==============================] - 7s 166us/step - loss: 0.3561 - acc: 0.8954\n15000/15000 [==============================] - 1s 48us/step\n45000/45000 [==============================] - 1s 19us/step\nEpoch 1/1\n45000/45000 [==============================] - 7s 166us/step - loss: 0.3496 - acc: 0.8962\n15000/15000 [==============================] - 1s 50us/step\n45000/45000 [==============================] - 1s 20us/step\nEpoch 1/1\n45000/45000 [==============================] - 8s 171us/step - loss: 0.3621 - acc: 0.8937\n15000/15000 [==============================] - 1s 52us/step\n45000/45000 [==============================] - 1s 20us/step\nEpoch 1/1\n45000/45000 [==============================] - 6s 140us/step - loss: 0.4106 - acc: 0.8811\n15000/15000 [==============================] - 1s 55us/step\n45000/45000 [==============================] - 1s 22us/step\nEpoch 1/1\n45000/45000 [==============================] - 6s 143us/step - loss: 0.4125 - acc: 0.8780\n15000/15000 [==============================] - 1s 56us/step\n45000/45000 [==============================] - 1s 20us/step\nEpoch 1/1\n45000/45000 [==============================] - 6s 142us/step - loss: 0.3998 - acc: 0.8839\n15000/15000 [==============================] - 1s 56us/step\n45000/45000 [==============================] - 1s 21us/step\nEpoch 1/1\n45000/45000 [==============================] - 6s 142us/step - loss: 0.4139 - acc: 0.8779\n15000/15000 [==============================] - 1s 62us/step\n45000/45000 [==============================] - 1s 22us/step\nEpoch 1/1\n45000/45000 [==============================] - 9s 206us/step - loss: 0.2943 - acc: 0.9140\n15000/15000 [==============================] - 1s 55us/step\n45000/45000 [==============================] - 1s 20us/step\nEpoch 1/1\n45000/45000 [==============================] - 9s 206us/step - loss: 0.3047 - acc: 0.9111\n15000/15000 [==============================] - 1s 61us/step\n45000/45000 [==============================] - 1s 20us/step\nEpoch 1/1\n45000/45000 [==============================] - 9s 208us/step - loss: 0.2920 - acc: 0.9137\n15000/15000 [==============================] - 1s 60us/step\n45000/45000 [==============================] - 1s 21us/step\nEpoch 1/1\n45000/45000 [==============================] - 9s 209us/step - loss: 0.3015 - acc: 0.9112\n15000/15000 [==============================] - 1s 62us/step\n45000/45000 [==============================] - 1s 22us/step\nEpoch 1/1\n60000/60000 [==============================] - 12s 199us/step - loss: 0.2694 - acc: 0.9210\nBest: 0.957033 using {'optimizer': 'Nadam'}\n0.874133 (0.005897) with: {'optimizer': 'SGD'}\n0.953867 (0.003900) with: {'optimizer': 'RMSprop'}\n0.951767 (0.001012) with: {'optimizer': 'Adagrad'}\n0.950500 (0.003029) with: {'optimizer': 'Adadelta'}\n0.955000 (0.002867) with: {'optimizer': 'Adam'}\n0.945917 (0.002984) with: {'optimizer': 'Adamax'}\n0.957033 (0.001874) with: {'optimizer': 'Nadam'}\n"
    }
   ],
   "execution_count": null
  },
  {
   "cell_type": "markdown",
   "source": "## Creating Convolutional Neural Nets with Keras\n\nWe have so far considered each MNIST data sample as a $(28\\times 28,)$-long 1d vector. This approach neglects any spatial structure in the image. On the other hand, we do know that in every one of the hand-written digits there are *local* spatial correlations between the pixels, which we would like to take advantage of to improve the accuracy of our classification model. To this end, we first need to reshape the training and test input data as follows",
   "metadata": {
    "cell_id": "00016-57cdb9b8-4e0c-42a9-9221-0605c6704866",
    "deepnote_cell_type": "markdown",
    "deepnote_cell_height": 237.96875
   }
  },
  {
   "cell_type": "code",
   "metadata": {
    "cell_id": "00017-c0d6c32e-ccaa-4fae-9509-a0f9902b71dc",
    "deepnote_cell_type": "code",
    "deepnote_cell_height": 443.3125
   },
   "source": "# reshape data, depending on Keras backend\nif keras.backend.image_data_format() == 'channels_first':\n    X_train = X_train.reshape(X_train.shape[0], 1, img_rows, img_cols)\n    X_test = X_test.reshape(X_test.shape[0], 1, img_rows, img_cols)\n    input_shape = (1, img_rows, img_cols)\nelse:\n    X_train = X_train.reshape(X_train.shape[0], img_rows, img_cols, 1)\n    X_test = X_test.reshape(X_test.shape[0], img_rows, img_cols, 1)\n    input_shape = (img_rows, img_cols, 1)\n    \nprint('X_train shape:', X_train.shape)\nprint('Y_train shape:', Y_train.shape)\nprint()\nprint(X_train.shape[0], 'train samples')\nprint(X_test.shape[0], 'test samples')",
   "outputs": [
    {
     "name": "stdout",
     "output_type": "stream",
     "text": "X_train shape: (60000, 28, 28, 1)\nY_train shape: (60000, 10)\n\n60000 train samples\n10000 test samples\n"
    }
   ],
   "execution_count": null
  },
  {
   "cell_type": "markdown",
   "source": "One can ask the question of whether a neural net can learn to recognize such local patterns. As we saw in Sec. X of the review, this can be achieved by using convolutional layers. Luckily, all we need to do is change the architecture of our DNN, i.e. introduce small changes to the function `create_model()`. We can also merge **Step 2** and **Step 3** for convenience: ",
   "metadata": {
    "cell_id": "00018-ae206329-6c12-4c38-8620-b6f6ba89fd76",
    "deepnote_cell_type": "markdown",
    "deepnote_cell_height": 119.578125
   }
  },
  {
   "cell_type": "code",
   "metadata": {
    "cell_id": "00019-5a853118-a846-423c-866b-384a165041c8",
    "deepnote_cell_type": "code",
    "deepnote_cell_height": 588
   },
   "source": "def create_CNN():\n    # instantiate model\n    model = Sequential()\n    # add first convolutional layer with 10 filters (dimensionality of output space)\n    model.add(Conv2D(10, kernel_size=(5, 5),\n                     activation='relu',\n                     input_shape=input_shape))\n    # add 2D pooling layer\n    model.add(MaxPooling2D(pool_size=(2, 2)))\n    # add second convolutional layer with 20 filters\n    model.add(Conv2D(20, (5, 5), activation='relu'))\n    # apply dropout with rate 0.5\n    model.add(Dropout(0.5))\n    # add 2D pooling layer\n    model.add(MaxPooling2D(pool_size=(2, 2)))\n    # flatten data\n    model.add(Flatten())\n    # add a dense all-to-all relu layer\n    model.add(Dense(20*4*4, activation='relu'))\n    # apply dropout with rate 0.5\n    model.add(Dropout(0.5))\n    # soft-max layer\n    model.add(Dense(num_classes, activation='softmax'))\n    \n    # compile the model\n    model.compile(loss=keras.losses.categorical_crossentropy,\n                  optimizer='Adam',\n                  metrics=['accuracy'])\n    \n    return model",
   "outputs": [],
   "execution_count": null
  },
  {
   "cell_type": "markdown",
   "source": "Training the deep conv net (**Step 4**) and evaluating its performance (**Step 6**) proceeds exactly as before:",
   "metadata": {
    "cell_id": "00020-dbfd6c3d-70f9-4b79-a193-d34990b329bd",
    "deepnote_cell_type": "markdown",
    "deepnote_cell_height": 74.78125
   }
  },
  {
   "cell_type": "code",
   "metadata": {
    "cell_id": "00021-b53fd215-df2f-4726-a0f6-216de1732b19",
    "deepnote_cell_type": "code",
    "deepnote_cell_height": 426
   },
   "source": "# training parameters\nbatch_size = 64\nepochs = 10\n\n# create the deep conv net\nmodel_CNN=create_CNN()\n\n# train CNN\nmodel_CNN.fit(X_train, Y_train,\n          batch_size=batch_size,\n          epochs=epochs,\n          verbose=1,\n          validation_data=(X_test, Y_test))\n\n# evaliate model\nscore = model_CNN.evaluate(X_test, Y_test, verbose=1)\n\n# print performance\nprint()\nprint('Test loss:', score[0])\nprint('Test accuracy:', score[1])",
   "outputs": [
    {
     "name": "stdout",
     "output_type": "stream",
     "text": "Train on 60000 samples, validate on 10000 samples\nEpoch 1/10\n60000/60000 [==============================] - 39s 646us/step - loss: 0.2610 - acc: 0.9183 - val_loss: 0.0750 - val_acc: 0.9825\nEpoch 2/10\n60000/60000 [==============================] - 32s 533us/step - loss: 0.0932 - acc: 0.9709 - val_loss: 0.0551 - val_acc: 0.9876\nEpoch 3/10\n60000/60000 [==============================] - 32s 533us/step - loss: 0.0689 - acc: 0.9789 - val_loss: 0.0408 - val_acc: 0.9893\nEpoch 4/10\n60000/60000 [==============================] - 32s 533us/step - loss: 0.0622 - acc: 0.9808 - val_loss: 0.0378 - val_acc: 0.9907\nEpoch 5/10\n60000/60000 [==============================] - 32s 537us/step - loss: 0.0531 - acc: 0.9837 - val_loss: 0.0333 - val_acc: 0.9915\nEpoch 6/10\n60000/60000 [==============================] - 33s 554us/step - loss: 0.0495 - acc: 0.9854 - val_loss: 0.0339 - val_acc: 0.9909\nEpoch 7/10\n60000/60000 [==============================] - 39s 649us/step - loss: 0.0475 - acc: 0.9851 - val_loss: 0.0330 - val_acc: 0.9929\nEpoch 8/10\n60000/60000 [==============================] - 39s 648us/step - loss: 0.0423 - acc: 0.9870 - val_loss: 0.0289 - val_acc: 0.9931\nEpoch 9/10\n60000/60000 [==============================] - 38s 633us/step - loss: 0.0421 - acc: 0.9874 - val_loss: 0.0290 - val_acc: 0.9928\nEpoch 10/10\n60000/60000 [==============================] - 39s 646us/step - loss: 0.0374 - acc: 0.9884 - val_loss: 0.0253 - val_acc: 0.9922\n10000/10000 [==============================] - 3s 288us/step\n\nTest loss: 0.025273755778139458\nTest accuracy: 0.9922\n"
    }
   ],
   "execution_count": null
  },
  {
   "cell_type": "code",
   "metadata": {
    "cell_id": "00022-80161665-658a-45a2-b03b-7bd8e0c6842f",
    "deepnote_cell_type": "code",
    "deepnote_cell_height": 66
   },
   "source": "",
   "execution_count": null,
   "outputs": []
  },
  {
   "cell_type": "markdown",
   "source": "<a style='text-decoration:none;line-height:16px;display:flex;color:#5B5B62;padding:10px;justify-content:end;' href='https://deepnote.com?utm_source=created-in-deepnote-cell&projectId=32b1d953-5e79-45f4-8767-2987a651ec74' target=\"_blank\">\n<img alt='Created in deepnote.com' style='display:inline;max-height:16px;margin:0px;margin-right:7.5px;' src='data:image/svg+xml;base64,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' > </img>\nCreated in <span style='font-weight:600;margin-left:4px;'>Deepnote</span></a>",
   "metadata": {
    "tags": [],
    "created_in_deepnote_cell": true,
    "deepnote_cell_type": "markdown"
   }
  }
 ],
 "nbformat": 4,
 "nbformat_minor": 2,
 "metadata": {
  "kernelspec": {
   "display_name": "Python 3 (ipykernel)",
   "language": "python",
   "name": "python3"
  },
  "language_info": {
   "codemirror_mode": {
    "name": "ipython",
    "version": 3
   },
   "file_extension": ".py",
   "mimetype": "text/x-python",
   "name": "python",
   "nbconvert_exporter": "python",
   "pygments_lexer": "ipython3",
   "version": "3.8.12"
  },
  "deepnote_notebook_id": "5b2d3923-a738-453e-b916-faf0ac9b30e9",
  "deepnote": {},
  "deepnote_execution_queue": []
 }
}