{
 "cells": [
  {
   "cell_type": "code",
   "execution_count": 2,
   "id": "56871886",
   "metadata": {},
   "outputs": [],
   "source": [
    "import numpy as np\n",
    "import matplotlib.pyplot as plt\n",
    "import keras\n",
    "from keras.models import Sequential\n",
    "from keras.layers import Dense, Dropout\n",
    "from tensorflow.keras.optimizers import SGD\n",
    "from sklearn.model_selection import GridSearchCV\n",
    "from keras.wrappers.scikit_learn import KerasClassifier\n",
    "from keras.callbacks import ModelCheckpoint\n",
    "import pandas as pd\n",
    "import time"
   ]
  },
  {
   "cell_type": "code",
   "execution_count": 5,
   "id": "349ebacc",
   "metadata": {},
   "outputs": [],
   "source": [
    "filename=\"DATA/sequences16.csv\"\n",
    "sx, sy = np.loadtxt(filename, delimiter=',',\n",
    "                    usecols=(0,1), unpack=True, dtype = str)\n"
   ]
  },
  {
   "cell_type": "code",
   "execution_count": null,
   "id": "4cbd98c0",
   "metadata": {},
   "outputs": [],
   "source": []
  }
 ],
 "metadata": {
  "kernelspec": {
   "display_name": "Python 3.8.5 64-bit ('base': conda)",
   "language": "python",
   "name": "python385jvsc74a57bd077593180668de44719eea98b1016f56594f6a7979e760ba16644cd28c82a4004"
  },
  "language_info": {
   "codemirror_mode": {
    "name": "ipython",
    "version": 3
   },
   "file_extension": ".py",
   "mimetype": "text/x-python",
   "name": "python",
   "nbconvert_exporter": "python",
   "pygments_lexer": "ipython3",
   "version": "3.8.12"
  }
 },
 "nbformat": 4,
 "nbformat_minor": 5
}
